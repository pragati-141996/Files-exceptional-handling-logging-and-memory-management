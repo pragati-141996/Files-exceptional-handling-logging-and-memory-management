{
  "nbformat": 4,
  "nbformat_minor": 0,
  "metadata": {
    "colab": {
      "provenance": []
    },
    "kernelspec": {
      "name": "python3",
      "display_name": "Python 3"
    },
    "language_info": {
      "name": "python"
    }
  },
  "cells": [
    {
      "cell_type": "markdown",
      "source": [
        "# FILES , EXCEPTIONAL HANDLING , LOGGING AND MEMORY MANAGEMENT"
      ],
      "metadata": {
        "id": "S6SP7vDkccMY"
      }
    },
    {
      "cell_type": "markdown",
      "source": [
        "1. What is the difference between interpreted and compiled languages ?\n",
        "\n",
        "-  Interpreted languages execute the source code line-by-line at runtime using an interpreter without creating a standalone executable (e.g., Python, JavaScript).\n",
        "-  Compiled languages translate the entire source code into machine code before execution using a compiler, creating a separate executable file (e.g., C, C++)\n",
        "\n",
        "2. What is exception handling in Python ?\n",
        "\n",
        "-  Exception handling in Python is a way to manage errors that happen during the execution of a program. Instead of crashing the program when an error occurs, Python lets you catch and handle the error using special keywords like try, except, else, and finally.\n",
        "\n",
        "3. What is the purpose of the finally block in exception handling ?\n",
        "\n",
        "-  The finally block is used to define code that will always run, no matter what happens — whether an exception was raised or not. It is typically used for clean-up actions, like closing files, releasing resources, or ending a database connection.\n",
        "\n",
        "4. What is logging in Python ?\n",
        "\n",
        "-  Logging in Python means recording messages that describe what the program is doing while it runs. Instead of using print(), you use the logging module to track events like errors, warnings, or important steps in your program. These messages can be shown on the screen or saved to a file.\n",
        "\n",
        "5. What is the significance of the __del__ method in Python ?\n",
        "\n",
        "-  The __del__ method in Python is a destructor. It is called automatically when an object is about to be destroyed, and is used to clean up resources like closing files or releasing memory.\n",
        "\n",
        "6. What is the difference between import and from ... import in Python ?\n",
        "\n",
        "-  The import statement is used to bring an entire module into our code.We access the functions or classes within that module by using the module's name as a prefix.\n",
        "-  The from ... import statement allows us to import specific functions, classes, or variables from a module directly into our code.We don't need to use the module's name to access those specific items.\n",
        "\n",
        "7. How can you handle multiple exceptions in Python ?\n",
        "\n",
        "-  You can handle multiple exceptions in Python in the following ways:\n",
        "\n",
        "-  **Using multiple except blocks** : Each type of exception is handled separately with its own except block.This allows us to provide a specific response for each different error.\n",
        "\n",
        "-  **Catching multiple exceptions in a single except block** : We can group several exceptions together and handle them with one except block.\n",
        "This is useful when we want to respond the same way to different types of errors.\n",
        "\n",
        "-  **Using a generic except block** : We can catch all exceptions using a general except clause.This is helpful when we want to handle any unexpected error, but it should be used carefully because it might hide programming mistakes.\n",
        "\n",
        "-  **Using the try-except-else-finally structure** :\n",
        "\n",
        "-  try is used to write the risky code.\n",
        "\n",
        "-  except is used to catch and handle exceptions.\n",
        "\n",
        "-  else runs if no exceptions occur.\n",
        "\n",
        "-  finally runs no matter what, and is often used for clean-up actions like closing a file or releasing a resource.\n",
        "\n",
        "\n",
        "8. What is the purpose of the with statement when handling files in Python ?\n",
        "\n",
        "-  The with statement is used to simplify file handling by automatically managing the opening and closing of files. It ensures that a file is properly closed after its operations are completed, even if an error occurs during the process. This helps prevent resource leaks and makes the code cleaner and more readable.\n",
        "\n",
        "9. What is the difference between multithreading and multiprocessing ?\n",
        "\n",
        "-  Multithreading means running multiple threads (smaller units of a process) at the same time within a single process.\n",
        "It is mostly used to perform multiple tasks simultaneously in the same memory space.\n",
        "In Python, due to the Global Interpreter Lock (GIL), multithreading is best for I/O-bound tasks like reading files or making network requests.\n",
        "\n",
        "-  Multiprocessing means running multiple processes at the same time, where each process has its own memory space.\n",
        "It is used to achieve true parallelism and is ideal for CPU-bound tasks like heavy computations, because each process can run independently on different CPU cores.\n",
        "\n",
        "10. What are the advantages of using logging in a program ?\n",
        "\n",
        "-  Logging provides several important benefits in a program:\n",
        "\n",
        "-  **Problem Diagnosis**\n",
        "\n",
        "  Logs help track down and understand errors and bugs by showing what the program was doing before the issue occurred.\n",
        "\n",
        "-  **Monitoring**\n",
        "\n",
        "  Logs allow you to monitor the program’s behavior and performance while it’s running, often without interrupting the program.\n",
        "\n",
        "-  **Debugging**\n",
        "\n",
        "  During development, logging is a powerful tool for debugging, providing detailed information without needing to stop the program.\n",
        "\n",
        "-  **Auditing**\n",
        "\n",
        "  Logs can serve as a record of important activities, like user actions or system changes, which is useful for security and compliance.\n",
        "\n",
        "-  **Better than Print Statements**\n",
        "\n",
        "  Logging is more flexible and powerful than using simple print statements because you can control the log levels (like debug, info, warning, error, critical) and direct logs to different outputs (like files, consoles, or external systems).\n",
        "\n",
        "-  **Maintains Code Quality**\n",
        "\n",
        " Using logging keeps the code cleaner and more maintainable by separating diagnostic output from actual program logic.\n",
        "\n",
        "11. What is memory management in Python ?\n",
        "\n",
        "-  Memory management in Python refers to the process of efficiently handling and organizing a program’s memory during its execution. It includes:\n",
        "\n",
        "-  Automatic Memory Allocation : Python automatically allocates memory to objects when they are created.\n",
        "\n",
        "-  Garbage Collection : Python has a built-in garbage collector that automatically frees up memory by removing objects that are no longer used (i.e., objects without any references).\n",
        "\n",
        "-  Reference Counting : Every object in Python has a reference count, which tracks how many references point to the object. When the count drops to zero, the memory can be reclaimed.\n",
        "\n",
        "-  Memory Pools : Python internally manages memory using a system called pymalloc, which organizes memory into pools for faster and more efficient access.\n",
        "\n",
        "\n",
        "12. What are the basic steps involved in exception handling in Python ?\n",
        "\n",
        "-  The basic steps involved in exception handling are:\n",
        "\n",
        "-  Try Block : Place the code that might cause an exception inside a try block.\n",
        "\n",
        "-  Except Block : Handle the exception by writing the code inside an except block. You can catch specific exceptions or multiple types.\n",
        "\n",
        "-  Else Block (Optional) : Write the code inside an else block if one want to run something only when no exception occurs.\n",
        "\n",
        "-  Finally Block (Optional) : Write the code inside a finally block if one want it to run no matter what, whether an exception happens or not (often used for cleanup tasks like closing files).\n",
        "\n",
        "13. Why is memory management important in Python ?\n",
        "\n",
        "-  Efficiency – Ensures optimal use of memory and system resources.\n",
        "\n",
        "-  Automatic Garbage Collection – Python cleans up unused objects, but understanding it helps avoid issues.\n",
        "\n",
        "-  Prevents Memory Leaks – Poor code (e.g., circular references, unclosed files) can still leak memory.\n",
        "\n",
        "-  Improves Performance – Efficient memory use leads to faster, more responsive programs.\n",
        "\n",
        "-  Supports Scalability – Good memory practices help apps handle larger loads reliably.\n",
        "\n",
        "14. What is the role of try and except in exception handling ?\n",
        "\n",
        "-  try Block:Contains code that might raise an exception.Python tries to run it.\n",
        "\n",
        "-  except Block:Contains code that handles the exception.Runs only if an exception occurs in the try block.\n",
        "\n",
        "15. How does Python's garbage collection system work ?\n",
        "\n",
        "-  Python manages memory automatically using garbage collection (GC) to clean up unused objects. Here’s how it works:\n",
        "-   Reference Counting:Every object in Python has a reference count (how many variables point to it).When the count drops to zero, the object is deleted immediately.\n",
        "-  Garbage Collector for Circular References:Some objects refer to each other (circular reference), so ref count never reaches zero.Python's gc module detects and collects these.\n",
        "-  Generational GC:Objects are grouped into generations (0, 1, 2).New objects start in Gen 0.If they survive collection, they move up.Gen 0 is collected most often; Gen 2 less often (older objects are less likely to be garbage).\n",
        "\n",
        "16. What is the purpose of the else block in exception handling ?\n",
        "\n",
        "-  The else block is used to define code that should run only if no exceptions occur in the try block. It helps separate the normal execution path from error handling, making the code cleaner and more readable.\n",
        "\n",
        "17. What are the common logging levels in Python ?\n",
        "-  DEBUG – Detailed information, mainly for diagnosing problems.\n",
        "→ Used during development.\n",
        "\n",
        "-  INFO – General information about program execution.\n",
        "→ Used to confirm things are working as expected.\n",
        "\n",
        "-  WARNING – An indication that something unexpected happened, but the program is still running.\n",
        "→ Used for potential issues.\n",
        "\n",
        "-  ERROR – A serious problem occurred, preventing part of the program from functioning.\n",
        "→ Used when an operation fails.\n",
        "\n",
        "-  CRITICAL – A very serious error that may stop the program entirely.\n",
        "→ Used for fatal issues.\n",
        "\n",
        "18. What is the difference between os.fork() and multiprocessing in Python ?\n",
        "\n",
        "-  os.fork() : A low-level system call to create a new process by duplicating the current process.\n",
        "\n",
        "-  Platform: UNIX/Linux only (not available on Windows).\n",
        "\n",
        "-  How it works: The child process gets a copy of the parent’s memory space and starts execution from the point where fork() was called.\n",
        "\n",
        "-  Use case: Used when we need precise control over the process behavior, especially in systems programming.\n",
        "\n",
        "-  multiprocessing : A high-level module that provides a cleaner API for process-based parallelism.\n",
        "\n",
        "-  Platform: Cross-platform (works on both Windows and UNIX/Linux).\n",
        "\n",
        "-  How it works: Spawns new Python interpreter processes and provides tools like Process, Queue, Pipe, Pool, etc., to handle IPC and synchronization.\n",
        "\n",
        "-  Use case: Ideal for writing parallel code that is platform-independent and easier to maintain.\n",
        "\n",
        "19. What is the importance of closing a file in Python ?\n",
        "\n",
        "-  Closing a file in Python is very important because of the following reasons :\n",
        "-  **Frees System Resources** : Every open file consumes system resources (file descriptors, memory buffers).Closing the file releases these resources for other processes or operations.\n",
        "\n",
        "-  **Flushes Data to Disk** : When you write to a file, the data is first stored in a buffer (in-memory).file.close() flushes the buffer, ensuring all data is actually written to disk.Not closing the file might result in data loss or corruption, especially in write mode.\n",
        "\n",
        "-  **Avoids File Locks or Conflicts** : Some OSes lock files when they are open for writing.If the file is not closed, other processes might not be able to access it properly.\n",
        "\n",
        "-  **Prevents File Corruption** : Especially in write/append modes, an open file that isn't closed properly can become corrupted.\n",
        "\n",
        "-  **Ensures Predictable Behavior** : Python uses garbage collection, so relying on it to auto-close a file is not reliable.Explicitly closing the file makes your code cleaner and more predictable.\n",
        "\n",
        "20. What is the difference between file.read() and file.readline() in Python ?\n",
        "\n",
        "-  **file.read()** :\n",
        "-  Reads the entire file (or a specified number of characters).\n",
        "\n",
        "-  Returns a single string containing all the content.\n",
        "\n",
        "-  Useful when you want the whole file content at once.\n",
        "\n",
        "-  Warning: Can consume a lot of memory if the file is large.\n",
        "\n",
        "-  **file.readline()** :\n",
        "-  Reads just one line at a time from the file.\n",
        "\n",
        "-  Returns a string ending with a newline (\\n) if present.\n",
        "\n",
        "-  Useful for reading line-by-line, especially with big files.\n",
        "\n",
        "\n",
        "21.  What is the logging module in Python used for ?\n",
        "\n",
        "-  The logging module in Python is used to record messages that indicate events, errors, or general information during the execution of a program. It's helpful for debugging, monitoring, and tracking the behavior of code, especially in large applications.\n",
        "\n",
        "22. What is the os module in Python used for in file handling ?\n",
        "\n",
        "-  The os module in Python provides a way to interact with the operating system. In file handling, it's used to perform tasks like creating, deleting, renaming, and navigating files and directories.\n",
        "\n",
        "23. What are the challenges associated with memory management in Python ?\n",
        "\n",
        "-  In Python, memory management is mostly handled automatically through a built-in garbage collector and dynamic memory allocation. However, there are several challenges developers need to be aware of:\n",
        "\n",
        "-  Memory Leaks:\n",
        "These occur when objects are no longer needed but are still referenced, preventing garbage collection. This can lead to increased memory usage over time.\n",
        "\n",
        "-  Circular References:\n",
        "When two or more objects refer to each other, it creates a reference cycle that the garbage collector may not immediately resolve. Using the weakref module can help in such cases.\n",
        "\n",
        "-  High Memory Consumption:\n",
        "Python objects are memory-heavy due to dynamic typing and object overhead. This becomes noticeable in data-heavy or long-running applications.\n",
        "\n",
        "-  Global Interpreter Lock (GIL):\n",
        "In CPython, the GIL prevents multiple native threads from executing Python bytecode simultaneously, which can affect memory efficiency in multi-threaded applications.\n",
        "\n",
        "-  Manual Resource Management:\n",
        "Resources like files, sockets, or database connections must be explicitly closed. Failure to do so can result in memory leaks.\n",
        "\n",
        "-  Memory Fragmentation:\n",
        "Repeated allocation and deallocation of memory can fragment memory space, especially in long-running programs.\n",
        "\n",
        "24. How do you raise an exception manually in Python ?\n",
        "\n",
        "-  In Python, we can raise an exception manually using the raise keyword. This is useful when we want to enforce specific conditions or signal that an error has occurred during program execution.Additionally, we can define and raise custom exceptions by creating a new class that inherits from the Exception class.This approach makes error handling more meaningful and maintainable, especially in large applications.\n",
        "\n",
        "25. Why is it important to use multithreading in certain applications ?\n",
        "\n",
        "-  Multithreading is important in certain applications because it allows multiple tasks to run concurrently within a single process. This improves the responsiveness and efficiency of programs, especially those that involve I/O-bound operations like file access, network communication, or user interaction.For example, in a web server, multithreading enables handling multiple client requests at the same time without blocking. Similarly, in a GUI application, it allows the interface to remain responsive while background tasks are running.Even though Python’s Global Interpreter Lock (GIL) restricts true parallelism for CPU-bound tasks in CPython, multithreading still provides significant performance benefits in I/O-bound scenarios by reducing idle time.Using multithreading properly can lead to faster execution, better resource utilization, and improved user experience."
      ],
      "metadata": {
        "id": "xQKgGDmocyu3"
      }
    },
    {
      "cell_type": "markdown",
      "source": [
        "# PRACTICAL QUESTIONS"
      ],
      "metadata": {
        "id": "JIxPFoyPxCzl"
      }
    },
    {
      "cell_type": "markdown",
      "source": [
        "1.  How can you open a file for writing in Python and write a string to it ?"
      ],
      "metadata": {
        "id": "HNvW7hCOxH_G"
      }
    },
    {
      "cell_type": "code",
      "execution_count": null,
      "metadata": {
        "id": "YLiu2ezscGMP",
        "colab": {
          "base_uri": "https://localhost:8080/"
        },
        "outputId": "c308ea3a-a097-4c63-c598-1eeb0846903f"
      },
      "outputs": [
        {
          "output_type": "stream",
          "name": "stdout",
          "text": [
            "Hello,this is the first line,\n",
            "This is the second line,\n",
            "This is the third line,\n",
            "\n"
          ]
        }
      ],
      "source": [
        "with open (\"example.txt\",\"w\") as file:\n",
        "  file.write(\"Hello,this is the first line,\\n\")\n",
        "  file.write(\"This is the second line,\\n\")\n",
        "  file.write(\"This is the third line,\\n\")\n",
        "with open(\"example.txt\",\"r\") as file :\n",
        "  content=file.read()\n",
        "  print(content)"
      ]
    },
    {
      "cell_type": "markdown",
      "source": [
        "2. Write a Python program to read the contents of a file and print each line ?"
      ],
      "metadata": {
        "id": "gW4p2KOo1M8m"
      }
    },
    {
      "cell_type": "code",
      "source": [
        "with open (\"example.txt\",\"r\") as file :\n",
        "   for line in file :\n",
        "      print(line,end=\"\")"
      ],
      "metadata": {
        "colab": {
          "base_uri": "https://localhost:8080/"
        },
        "id": "y_2lqcv0zx5a",
        "outputId": "1359f734-9b65-4f7c-800d-3a339a6a9c0a"
      },
      "execution_count": null,
      "outputs": [
        {
          "output_type": "stream",
          "name": "stdout",
          "text": [
            "Hello,this is the first line,\n",
            "This is the second line,\n",
            "This is the third line,\n"
          ]
        }
      ]
    },
    {
      "cell_type": "markdown",
      "source": [
        "3. How would you handle a case where the file doesn't exist while trying to open it for reading ?"
      ],
      "metadata": {
        "id": "UrzSObEE3hIs"
      }
    },
    {
      "cell_type": "code",
      "source": [
        "try :\n",
        "  with open(\"somefile.txt\",\"r\") as file:\n",
        "      content=file.read()\n",
        "except FileNotFoundError:\n",
        "      print(\"File not found\")"
      ],
      "metadata": {
        "id": "gs_tmo-l21tP",
        "colab": {
          "base_uri": "https://localhost:8080/"
        },
        "outputId": "e9eb82af-e123-45b8-c5ae-fdf558dfa8a2"
      },
      "execution_count": null,
      "outputs": [
        {
          "output_type": "stream",
          "name": "stdout",
          "text": [
            "File not found\n"
          ]
        }
      ]
    },
    {
      "cell_type": "markdown",
      "source": [
        "4. Write a Python script that reads from one file and writes its content to another file ?"
      ],
      "metadata": {
        "id": "C1yZb6WAdEvR"
      }
    },
    {
      "cell_type": "code",
      "source": [
        "with open (\"example.txt\",\"w\") as file:\n",
        "  file.write(\"Hello,this is the first line,\\n\")\n",
        "  file.write(\"This is the second line,\\n\")\n",
        "  file.write(\"This is the third line,\\n\")\n",
        "\n",
        "try:\n",
        "    with open(\"example.txt\",\"r\") as file :\n",
        "        content=file.read()\n",
        "    with open(\"destination.txt\",\"w\") as file:\n",
        "        file.write(content)\n",
        "    print(\"Content copied successfully\")\n",
        "except FileNotFoundError:\n",
        "    print(\"File not found\")"
      ],
      "metadata": {
        "colab": {
          "base_uri": "https://localhost:8080/"
        },
        "id": "64vZunDUcqp-",
        "outputId": "e7d63496-6708-4f9f-ab45-7370696ba6f0"
      },
      "execution_count": null,
      "outputs": [
        {
          "output_type": "stream",
          "name": "stdout",
          "text": [
            "Content copied successfully\n"
          ]
        }
      ]
    },
    {
      "cell_type": "markdown",
      "source": [
        "5. How would you catch and handle division by zero error in Python ?"
      ],
      "metadata": {
        "id": "UyzwRxiNhDG0"
      }
    },
    {
      "cell_type": "code",
      "source": [
        "try:\n",
        "    result=10/0\n",
        "except ZeroDivisionError :\n",
        "    print(\"Error:Division by zero isn't allowed\")"
      ],
      "metadata": {
        "colab": {
          "base_uri": "https://localhost:8080/"
        },
        "id": "PET--Jasgg63",
        "outputId": "1ca0193c-a880-4378-90bd-5ebad42b4d84"
      },
      "execution_count": null,
      "outputs": [
        {
          "output_type": "stream",
          "name": "stdout",
          "text": [
            "Error:Division by zero isn't allowed\n"
          ]
        }
      ]
    },
    {
      "cell_type": "markdown",
      "source": [
        "6.  Write a Python program that logs an error message to a log file when a division by zero exception occurs ?"
      ],
      "metadata": {
        "id": "OR-v-0rEjr-s"
      }
    },
    {
      "cell_type": "code",
      "source": [
        "import logging\n",
        "logging.basicConfig(filename=\"error.log\",level=logging.ERROR,format=\"%(asctime)s-%(levelname)s-%(message)s\")\n",
        "try:\n",
        "   result=10/0\n",
        "except ZeroDivisionError:\n",
        "    logging.error(\"Attempted to divide by zero\", exc_info=True)"
      ],
      "metadata": {
        "id": "oA4Xqe5-jkbj",
        "colab": {
          "base_uri": "https://localhost:8080/"
        },
        "outputId": "c4536173-1eb2-4908-88ad-d633547f6c23"
      },
      "execution_count": null,
      "outputs": [
        {
          "output_type": "stream",
          "name": "stderr",
          "text": [
            "ERROR:root:Attempted to divide by zero\n",
            "Traceback (most recent call last):\n",
            "  File \"<ipython-input-3-44c334df7ae7>\", line 4, in <cell line: 0>\n",
            "    result=10/0\n",
            "           ~~^~\n",
            "ZeroDivisionError: division by zero\n"
          ]
        }
      ]
    },
    {
      "cell_type": "markdown",
      "source": [
        "7. How do you log information at different levels (INFO, ERROR, WARNING) in Python using the logging module ?"
      ],
      "metadata": {
        "id": "6kS-irCzle1f"
      }
    },
    {
      "cell_type": "code",
      "source": [
        "import logging\n",
        "logging.basicConfig(level=logging.DEBUG,format='%(levelname)s: %(message)s')\n",
        "logging.getLogger().setLevel(logging.DEBUG)\n",
        "logging.info(\"This is an informational message\")\n",
        "logging.warning(\"This is a warning message\")\n",
        "logging.error(\"This is an error message\")"
      ],
      "metadata": {
        "id": "bXJWTRiYjSFj",
        "colab": {
          "base_uri": "https://localhost:8080/"
        },
        "outputId": "96c5d498-fc6f-443f-83eb-1571d4f91934"
      },
      "execution_count": null,
      "outputs": [
        {
          "output_type": "stream",
          "name": "stderr",
          "text": [
            "INFO:root:This is an informational message\n",
            "WARNING:root:This is a warning message\n",
            "ERROR:root:This is an error message\n"
          ]
        }
      ]
    },
    {
      "cell_type": "markdown",
      "source": [
        "8. Write a program to handle a file opening error using exception handling."
      ],
      "metadata": {
        "id": "vWbwGPVc5OLl"
      }
    },
    {
      "cell_type": "code",
      "source": [
        "try:\n",
        "    with open(\"data.txt\",\"r\") as file:\n",
        "        content=file.read()\n",
        "        print(content)\n",
        "except FileNotFoundError:\n",
        "    print(\"File not found\")"
      ],
      "metadata": {
        "id": "9x8B5Djx2wDQ",
        "colab": {
          "base_uri": "https://localhost:8080/"
        },
        "outputId": "f473c147-d9ab-4d32-e118-993b6e38bc7a"
      },
      "execution_count": null,
      "outputs": [
        {
          "output_type": "stream",
          "name": "stdout",
          "text": [
            "File not found\n"
          ]
        }
      ]
    },
    {
      "cell_type": "markdown",
      "source": [
        "9. How can you read a file line by line and store its content in a list in Python ?"
      ],
      "metadata": {
        "id": "6UsWFv9USxSG"
      }
    },
    {
      "cell_type": "code",
      "source": [
        "with open (\"example.txt\",\"w\") as file:\n",
        "  file.write(\"Hello,this is the first line,\\n\")\n",
        "  file.write(\"This is the second line,\\n\")\n",
        "  file.write(\"This is the third line,\\n\")\n",
        "with open (\"example.txt\",\"r\") as file:\n",
        "  lines=file.readlines()\n",
        "  print(lines)"
      ],
      "metadata": {
        "colab": {
          "base_uri": "https://localhost:8080/"
        },
        "id": "7WsFV5T4Sip1",
        "outputId": "e589ec7e-ea7c-4ab5-f502-10dca20a2f80"
      },
      "execution_count": null,
      "outputs": [
        {
          "output_type": "stream",
          "name": "stdout",
          "text": [
            "['Hello,this is the first line,\\n', 'This is the second line,\\n', 'This is the third line,\\n']\n"
          ]
        }
      ]
    },
    {
      "cell_type": "markdown",
      "source": [
        "10. How can you append data to an existing file in Python ?"
      ],
      "metadata": {
        "id": "MNqNVbREVJYL"
      }
    },
    {
      "cell_type": "code",
      "source": [
        "with open(\"New.txt\",\"w\") as file:\n",
        "  file.write(\"hello\\n\")\n",
        "  file.write(\"world\\n\")\n",
        "with open(\"New.txt\",\"a\") as file:\n",
        "  file.write(\"python\\n\")\n",
        "with open(\"New.txt\",\"r\") as file:\n",
        "  print(file.read())\n"
      ],
      "metadata": {
        "colab": {
          "base_uri": "https://localhost:8080/"
        },
        "id": "LFYf9CZpYKQo",
        "outputId": "aeed2af1-30d2-4dea-cd69-316b3d12558f"
      },
      "execution_count": null,
      "outputs": [
        {
          "output_type": "stream",
          "name": "stdout",
          "text": [
            "hello\n",
            "world\n",
            "python\n",
            "\n"
          ]
        }
      ]
    },
    {
      "cell_type": "markdown",
      "source": [
        "11. Write a Python program that uses a try-except block to handle an error when attempting to access a\n",
        "dictionary key that doesn't exist ?"
      ],
      "metadata": {
        "id": "bhQdqJt-Zj84"
      }
    },
    {
      "cell_type": "code",
      "source": [
        "my_dict={\"a\":1,\"b\":2}\n",
        "try:\n",
        "   print(my_dict[\"c\"])\n",
        "except KeyError:\n",
        "   print(\"Key not found\")"
      ],
      "metadata": {
        "colab": {
          "base_uri": "https://localhost:8080/"
        },
        "id": "LonLwX9iZck1",
        "outputId": "c1e9fb33-7697-4449-b942-9b4146e75e18"
      },
      "execution_count": null,
      "outputs": [
        {
          "output_type": "stream",
          "name": "stdout",
          "text": [
            "Key not found\n"
          ]
        }
      ]
    },
    {
      "cell_type": "markdown",
      "source": [
        "12.  Write a program that demonstrates using multiple except blocks to handle different types of exceptions ?"
      ],
      "metadata": {
        "id": "10d1hRaadAkz"
      }
    },
    {
      "cell_type": "code",
      "source": [
        "try:\n",
        "  a=int(input(\"Enter a valid number: \"))\n",
        "  result=10/a\n",
        "  my_dict={\"a\":1,\"b\":1}\n",
        "  print(my_dict[\"c\"])\n",
        "except ValueError:\n",
        "  print(\"Error: You must enter the valid integer.\")\n",
        "except ZeroDivisionError:\n",
        "  print(\"Error: Division by zero is not allowed.\")\n",
        "except KeyError:\n",
        "  print(\"Error: The key does not exist in the dictionary.\")\n",
        "except Exception as e:\n",
        "  print(f\"An unexpected error occurred:{e}\")"
      ],
      "metadata": {
        "colab": {
          "base_uri": "https://localhost:8080/"
        },
        "id": "Qis-Mw8NcgXk",
        "outputId": "0fbc276f-7366-46a6-bc88-d3131db598d3"
      },
      "execution_count": null,
      "outputs": [
        {
          "output_type": "stream",
          "name": "stdout",
          "text": [
            "Enter a valid number: abc\n",
            "Error: You must enter the valid integer.\n"
          ]
        }
      ]
    },
    {
      "cell_type": "markdown",
      "source": [
        "13.  How would you check if a file exists before attempting to read it in Python ?"
      ],
      "metadata": {
        "id": "9fimoFkKheo7"
      }
    },
    {
      "cell_type": "code",
      "source": [
        "import os\n",
        "filename=\"second.txt\"\n",
        "if os.path.exists(filename):\n",
        "    with open(filename,\"r\")as file:\n",
        "        print(file.read())\n",
        "else:\n",
        "    print(\"File does not exist\")"
      ],
      "metadata": {
        "colab": {
          "base_uri": "https://localhost:8080/"
        },
        "id": "iVNHVL98hEQ5",
        "outputId": "49375301-3f9b-401d-c4e9-d3d526f94cf7"
      },
      "execution_count": null,
      "outputs": [
        {
          "output_type": "stream",
          "name": "stdout",
          "text": [
            "File does not exist\n"
          ]
        }
      ]
    },
    {
      "cell_type": "markdown",
      "source": [
        "14. Write a program that uses the logging module to log both informational and error messages ?"
      ],
      "metadata": {
        "id": "dbaL1rBdjwqh"
      }
    },
    {
      "cell_type": "code",
      "source": [
        "import logging\n",
        "logging.basicConfig(level=logging.DEBUG,format='%(levelname)s: %(message)s')\n",
        "logging.info(\"This is an informational message\")\n",
        "logging.error(\"This is an error message\")"
      ],
      "metadata": {
        "colab": {
          "base_uri": "https://localhost:8080/"
        },
        "id": "dbXVTyxXjnp9",
        "outputId": "60079721-5cf9-4b86-f049-323f9b2b7ddc"
      },
      "execution_count": null,
      "outputs": [
        {
          "output_type": "stream",
          "name": "stderr",
          "text": [
            "INFO:root:This is an informational message\n",
            "ERROR:root:This is an error message\n"
          ]
        }
      ]
    },
    {
      "cell_type": "markdown",
      "source": [
        "15.  Write a Python program that prints the content of a file and handles the case when the file is empty ."
      ],
      "metadata": {
        "id": "valAO7jdnGSl"
      }
    },
    {
      "cell_type": "code",
      "source": [
        "try:\n",
        "    with open(\"New.txt\",\"r\") as file:\n",
        "        content=file.read()\n",
        "        if content :\n",
        "            print(content)\n",
        "        else :\n",
        "            print(\"File is empty\")\n",
        "except FileNotFoundError :\n",
        "    print(\"File not found\")"
      ],
      "metadata": {
        "colab": {
          "base_uri": "https://localhost:8080/"
        },
        "id": "raMcuewwm4HM",
        "outputId": "4be42638-4fcb-4911-f3cc-3135e7b8b042"
      },
      "execution_count": null,
      "outputs": [
        {
          "output_type": "stream",
          "name": "stdout",
          "text": [
            "hello\n",
            "world\n",
            "python\n",
            "\n"
          ]
        }
      ]
    },
    {
      "cell_type": "markdown",
      "source": [
        "16. Demonstrate how to use memory profiling to check the memory usage of a small program ?"
      ],
      "metadata": {
        "id": "7xagQgtPsL0J"
      }
    },
    {
      "cell_type": "code",
      "source": [
        "import tracemalloc\n",
        "tracemalloc.start()\n",
        "def generate_list(size):\n",
        "    return [x for x in range(size)]\n",
        "large_list = generate_list(1000000)\n",
        "snapshot1 = tracemalloc.take_snapshot()\n",
        "top_stats1 = snapshot1.statistics('lineno')\n",
        "print(\"Memory usage after list creation:\")\n",
        "for stat in top_stats1[:5]:\n",
        "    print(f\"{stat.traceback.format()[-1]}: {stat.size / 1024:.1f} KiB in {stat.count} blocks\")\n",
        "del large_list\n",
        "snapshot2 = tracemalloc.take_snapshot()\n",
        "top_stats2 = snapshot2.statistics('lineno')\n",
        "print(\"\\nMemory usage after list deletion:\")\n",
        "for stat in top_stats2[:5]:\n",
        "    print(f\"{stat.traceback.format()[-1]}: {stat.size / 1024:.1f} KiB in {stat.count} blocks\")\n",
        "tracemalloc.stop()"
      ],
      "metadata": {
        "id": "0Xs-IxsZzSs_",
        "colab": {
          "base_uri": "https://localhost:8080/"
        },
        "outputId": "d4dea92d-4d93-47ed-db84-6a123586e4d8"
      },
      "execution_count": 50,
      "outputs": [
        {
          "output_type": "stream",
          "name": "stdout",
          "text": [
            "Memory usage after list creation:\n",
            "    return [x for x in range(size)]: 39492.6 KiB in 999744 blocks\n",
            "    return [x for x in range(size)]: 39492.6 KiB in 999744 blocks\n",
            "    sys_module_dict = sys.modules.copy(): 405.7 KiB in 8 blocks\n",
            "    lines = fp.readlines(): 44.4 KiB in 465 blocks\n",
            "  File \"<frozen abc>\", line 123: 41.1 KiB in 572 blocks\n",
            "\n",
            "Memory usage after list deletion:\n",
            "    return [x for x in range(size)]: 39492.6 KiB in 999744 blocks\n",
            "    lines = fp.readlines(): 342.8 KiB in 3451 blocks\n",
            "  File \"<frozen abc>\", line 123: 40.9 KiB in 568 blocks\n",
            "    return compile(source, filename, symbol, self.flags | PyCF_ONLY_AST, 1): 37.7 KiB in 423 blocks\n",
            "    return (self.size, self.count, self.traceback): 12.6 KiB in 202 blocks\n"
          ]
        }
      ]
    },
    {
      "cell_type": "markdown",
      "source": [
        "17.  Write a Python program to create and write a list of numbers to a file, one number per line ?"
      ],
      "metadata": {
        "id": "mpw3Qum42hpR"
      }
    },
    {
      "cell_type": "code",
      "source": [
        "numbers=[1,2,3,4,5]\n",
        "with open(\"numbers.txt\",\"w\") as file :\n",
        "    for number in numbers :\n",
        "        file.write(f\"{number}\\n\")\n",
        "print(\"Numbers written to the file successfully\")"
      ],
      "metadata": {
        "colab": {
          "base_uri": "https://localhost:8080/"
        },
        "id": "55Tw_yQJ2mWe",
        "outputId": "02501dae-7771-4f2c-a39d-8888e418cc21"
      },
      "execution_count": null,
      "outputs": [
        {
          "output_type": "stream",
          "name": "stdout",
          "text": [
            "Numbers written to the file successfully\n"
          ]
        }
      ]
    },
    {
      "cell_type": "markdown",
      "source": [
        "18. How would you implement a basic logging setup that logs to a file with rotation after 1MB ?"
      ],
      "metadata": {
        "id": "-mK1DZ7Q-nWX"
      }
    },
    {
      "cell_type": "code",
      "source": [
        "import logging\n",
        "from logging.handlers import RotatingFileHandler\n",
        "log_handler = RotatingFileHandler(\"my_log.log\", maxBytes=1000000, backupCount=2)\n",
        "logging.basicConfig(level=logging.INFO,handlers=[log_handler],format='%(asctime)s - %(message)s')\n",
        "for i in range(10):\n",
        "    logging.info(f\"Log message {i}\")"
      ],
      "metadata": {
        "colab": {
          "base_uri": "https://localhost:8080/"
        },
        "id": "nXc1nmfV5jUv",
        "outputId": "5b2e9dd2-2b3a-4f3e-cf6a-bc4ad03c96ca"
      },
      "execution_count": null,
      "outputs": [
        {
          "output_type": "stream",
          "name": "stderr",
          "text": [
            "INFO:root:Log message 0\n",
            "INFO:root:Log message 1\n",
            "INFO:root:Log message 2\n",
            "INFO:root:Log message 3\n",
            "INFO:root:Log message 4\n",
            "INFO:root:Log message 5\n",
            "INFO:root:Log message 6\n",
            "INFO:root:Log message 7\n",
            "INFO:root:Log message 8\n",
            "INFO:root:Log message 9\n"
          ]
        }
      ]
    },
    {
      "cell_type": "markdown",
      "source": [
        "19. Write a program that handles both IndexError and KeyError using a try-except block."
      ],
      "metadata": {
        "id": "C9g4M-UAFrYd"
      }
    },
    {
      "cell_type": "code",
      "source": [
        "my_list=[1,2,3,4]\n",
        "my_dict={\"a\":1,\"b\":2}\n",
        "try:\n",
        "    print(my_list[5])\n",
        "    print(my_dict[\"c\"])\n",
        "except IndexError:\n",
        "    print(\"IndexError:List index out of range\")\n",
        "except KeyError:\n",
        "    print(\"KeyError: Key not found in dictionary.\")\n"
      ],
      "metadata": {
        "colab": {
          "base_uri": "https://localhost:8080/"
        },
        "id": "uC2hJjAQF0Jm",
        "outputId": "ed584190-9039-4e48-f89b-3bf4a915303f"
      },
      "execution_count": null,
      "outputs": [
        {
          "output_type": "stream",
          "name": "stdout",
          "text": [
            "IndexError:List index out of range\n"
          ]
        }
      ]
    },
    {
      "cell_type": "markdown",
      "source": [
        "20. How would you open a file and read its contents using a context manager in Python ?"
      ],
      "metadata": {
        "id": "s4xxhBuvH1mX"
      }
    },
    {
      "cell_type": "code",
      "source": [
        "with open(\"New.txt\", \"r\") as file:\n",
        "    content = file.read()\n",
        "    print(content)"
      ],
      "metadata": {
        "colab": {
          "base_uri": "https://localhost:8080/"
        },
        "id": "R5z6pOftFSbl",
        "outputId": "a698bfbd-a6d3-49ad-f4f8-89896462de31"
      },
      "execution_count": null,
      "outputs": [
        {
          "output_type": "stream",
          "name": "stdout",
          "text": [
            "hello\n",
            "world\n",
            "python\n",
            "\n"
          ]
        }
      ]
    },
    {
      "cell_type": "markdown",
      "source": [
        "21. Write a Python program that reads a file and prints the number of occurrences of a specific word ?"
      ],
      "metadata": {
        "id": "24CJDbHaL_py"
      }
    },
    {
      "cell_type": "code",
      "source": [
        "with open(\"sample.txt\",\"w\") as file :\n",
        "    file.write(\"Apple\\n\")\n",
        "    file.write(\"banana\\n\")\n",
        "    file.write(\"apple\\n\")\n",
        "    file.write(\"APPLE\\n\")\n",
        "with open(\"sample.txt\",\"r\") as file :\n",
        "    content=file.read()\n",
        "print(content)\n",
        "filename=input(\"Enter the filename: \")\n",
        "word=input(\"Enter the word to count: \")\n",
        "with open(filename,\"r\") as file:\n",
        "    text=file.read()\n",
        "    count=text.lower().split().count(word.lower())\n",
        "print(f\"The word '{word}' appears {count} times.\")"
      ],
      "metadata": {
        "id": "oCs6j8TjL9qk",
        "colab": {
          "base_uri": "https://localhost:8080/"
        },
        "outputId": "e7757a3d-e3c4-47c2-8143-06e1b47e56c4"
      },
      "execution_count": 47,
      "outputs": [
        {
          "output_type": "stream",
          "name": "stdout",
          "text": [
            "Apple\n",
            "banana\n",
            "apple\n",
            "APPLE\n",
            "\n",
            "Enter the filename: sample.txt\n",
            "Enter the word to count: apple\n",
            "The word 'apple' appears 3 times.\n"
          ]
        }
      ]
    },
    {
      "cell_type": "markdown",
      "source": [
        "22. How can you check if a file is empty before attempting to read its contents ?"
      ],
      "metadata": {
        "id": "Q89v30rdcsOn"
      }
    },
    {
      "cell_type": "code",
      "source": [
        "import os\n",
        "filename=\"sample.txt\"\n",
        "if os.path.getsize(filename)==0:\n",
        "    print(\"File is empty\")\n",
        "else:\n",
        "    with open(filename,\"r\")as file:\n",
        "        content=file.read()\n",
        "        print(content)\n",
        "\n",
        "\n"
      ],
      "metadata": {
        "colab": {
          "base_uri": "https://localhost:8080/"
        },
        "id": "mw1De02EafYK",
        "outputId": "d61992ec-3ca9-410c-9e01-c0ffd37f42c7"
      },
      "execution_count": 48,
      "outputs": [
        {
          "output_type": "stream",
          "name": "stdout",
          "text": [
            "Apple\n",
            "banana\n",
            "apple\n",
            "APPLE\n",
            "\n"
          ]
        }
      ]
    },
    {
      "cell_type": "markdown",
      "source": [
        "23. Write a Python program that writes to a log file when an error occurs during file handling."
      ],
      "metadata": {
        "id": "bbxKnEnveFMF"
      }
    },
    {
      "cell_type": "code",
      "source": [
        "try:\n",
        "    filename=input(\"Enter the filename: \")\n",
        "    with open(filename,\"r\") as file:\n",
        "        content=file.read()\n",
        "        print(content)\n",
        "except Exception as error:\n",
        "    with open(\"error_log.txt\",\"a\") as file:\n",
        "        file.write(f\"Error with file '{filename}': {str(error)}\\n\")\n",
        "    print(\"Oops! Something went wrong. The error has been logged.\")"
      ],
      "metadata": {
        "colab": {
          "base_uri": "https://localhost:8080/"
        },
        "id": "2ErkYgyBeDDn",
        "outputId": "f5fc1254-eacc-4149-b8e9-425cb62cfc6a"
      },
      "execution_count": 52,
      "outputs": [
        {
          "output_type": "stream",
          "name": "stdout",
          "text": [
            "Enter the filename: missingfile.txt\n",
            "Oops! Something went wrong. The error has been logged.\n"
          ]
        }
      ]
    }
  ]
}